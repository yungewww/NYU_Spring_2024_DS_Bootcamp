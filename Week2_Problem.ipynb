{
  "nbformat": 4,
  "nbformat_minor": 0,
  "metadata": {
    "colab": {
      "provenance": []
    },
    "kernelspec": {
      "name": "python3",
      "display_name": "Python 3"
    },
    "language_info": {
      "name": "python"
    }
  },
  "cells": [
    {
      "cell_type": "markdown",
      "source": [
        "### Practice Questions for Numpy"
      ],
      "metadata": {
        "id": "H9G7LbIHXsUG"
      }
    },
    {
      "cell_type": "code",
      "source": [
        "import numpy as np"
      ],
      "metadata": {
        "id": "C-d2_nOXaoqd"
      },
      "execution_count": 22,
      "outputs": []
    },
    {
      "cell_type": "code",
      "source": [
        "# Question 1\n",
        "# Define two custom numpy arrays, say A and B. Generate two new numpy arrays by stacking A and B vertically and horizontally.\n",
        "\n",
        "\n",
        "A = np.array([[1, 2, 3],\n",
        "              [4, 5, 6]])\n",
        "\n",
        "B = np.array([[4, 5, 6],\n",
        "              [7, 8, 9]])\n",
        "\n",
        "vertical_stack = np.vstack((A, B))\n",
        "\n",
        "horizontal_stack = np.hstack((A, B))\n",
        "\n",
        "print(f\"A: \")\n",
        "print(A)\n",
        "print(\"\\nB:\")\n",
        "print(B)\n",
        "print(\"\\nStacked Vertically:\")\n",
        "print(vertical_stack)\n",
        "print(\"\\nStacked Horizontally:\")\n",
        "print(horizontal_stack)"
      ],
      "metadata": {
        "colab": {
          "base_uri": "https://localhost:8080/"
        },
        "id": "xC2bjijEXtRY",
        "outputId": "330f2b95-988f-4b71-f26d-01b0bfc0dd72"
      },
      "execution_count": 23,
      "outputs": [
        {
          "output_type": "stream",
          "name": "stdout",
          "text": [
            "A: \n",
            "[[1 2 3]\n",
            " [4 5 6]]\n",
            "\n",
            "B:\n",
            "[[4 5 6]\n",
            " [7 8 9]]\n",
            "\n",
            "Stacked Vertically:\n",
            "[[1 2 3]\n",
            " [4 5 6]\n",
            " [4 5 6]\n",
            " [7 8 9]]\n",
            "\n",
            "Stacked Horizontally:\n",
            "[[1 2 3 4 5 6]\n",
            " [4 5 6 7 8 9]]\n"
          ]
        }
      ]
    },
    {
      "cell_type": "code",
      "source": [
        "# Question 2\n",
        "# Find common elements between A and B. [Hint : Intersection of two sets]\n",
        "\n",
        "set_A = set(A.flatten())\n",
        "set_B = set(B.flatten())\n",
        "\n",
        "common_elements = set_A.intersection(set_B)\n",
        "\n",
        "print(\"Common elements between A and B:\", common_elements)"
      ],
      "metadata": {
        "colab": {
          "base_uri": "https://localhost:8080/"
        },
        "id": "HTO2eqJoY_rT",
        "outputId": "e320f5d1-6f2e-4c37-b6b9-780b092569f4"
      },
      "execution_count": 24,
      "outputs": [
        {
          "output_type": "stream",
          "name": "stdout",
          "text": [
            "Common elements between A and B: {4, 5, 6}\n"
          ]
        }
      ]
    },
    {
      "cell_type": "code",
      "source": [
        "# Question 3\n",
        "# Extract all numbers from A which are within a specific range. eg between 5 and 10. [Hint: np.where() might be useful or boolean masks]\n",
        "\n",
        "lower_bound = 5\n",
        "upper_bound = 10\n",
        "\n",
        "mask = (A >= lower_bound) & (A <= upper_bound)\n",
        "\n",
        "elements_within_range = A[mask]\n",
        "\n",
        "print(f\"Elements within the range [{lower_bound}, {upper_bound}]: {elements_within_range}\")"
      ],
      "metadata": {
        "colab": {
          "base_uri": "https://localhost:8080/"
        },
        "id": "wYSVtsvHZCTx",
        "outputId": "71b268af-7cdd-4e01-ff58-fcd5884b787b"
      },
      "execution_count": 25,
      "outputs": [
        {
          "output_type": "stream",
          "name": "stdout",
          "text": [
            "Elements within the range [5, 10]: [5 6]\n"
          ]
        }
      ]
    },
    {
      "cell_type": "code",
      "source": [
        "# Question 4\n",
        "# Filter the rows of iris_2d that has petallength (3rd column) > 1.5 and sepallength (1st column) < 5.0\n",
        "url = 'https://archive.ics.uci.edu/ml/machine-learning-databases/iris/iris.data'\n",
        "iris_2d = np.genfromtxt(url, delimiter=',', dtype='float', usecols=[0,1,2,3])\n",
        "\n",
        "mask = (iris_2d[:, 2] > 1.5) & (iris_2d[:, 0] < 5.0)\n",
        "filtered_rows = iris_2d[mask]\n",
        "\n",
        "print(\"Filtered rows:\")\n",
        "print(filtered_rows)"
      ],
      "metadata": {
        "colab": {
          "base_uri": "https://localhost:8080/"
        },
        "id": "8ArNp9PzZF2P",
        "outputId": "d2ccfc7f-79d5-4b6e-a251-86157f368979"
      },
      "execution_count": 26,
      "outputs": [
        {
          "output_type": "stream",
          "name": "stdout",
          "text": [
            "Filtered rows:\n",
            "[[4.8 3.4 1.6 0.2]\n",
            " [4.8 3.4 1.9 0.2]\n",
            " [4.7 3.2 1.6 0.2]\n",
            " [4.8 3.1 1.6 0.2]\n",
            " [4.9 2.4 3.3 1. ]\n",
            " [4.9 2.5 4.5 1.7]]\n"
          ]
        }
      ]
    },
    {
      "cell_type": "markdown",
      "source": [
        "### Practice Questions for Pandas"
      ],
      "metadata": {
        "id": "m3TveqDuXfX9"
      }
    },
    {
      "cell_type": "code",
      "source": [
        "import pandas as pd"
      ],
      "metadata": {
        "id": "X66oIiOCbkhu"
      },
      "execution_count": 27,
      "outputs": []
    },
    {
      "cell_type": "code",
      "source": [
        "df = pd.read_csv('https://raw.githubusercontent.com/selva86/datasets/master/Cars93_miss.csv')"
      ],
      "metadata": {
        "id": "3KfhxOmrcsu3"
      },
      "execution_count": 28,
      "outputs": []
    },
    {
      "cell_type": "code",
      "execution_count": 29,
      "metadata": {
        "colab": {
          "base_uri": "https://localhost:8080/"
        },
        "id": "nVMdYt9OWboX",
        "outputId": "2c54c5b7-4ac7-4c2c-910b-3b96767b1856"
      },
      "outputs": [
        {
          "output_type": "stream",
          "name": "stdout",
          "text": [
            "   Manufacturer    Model     Type\n",
            "0         Acura  Integra    Small\n",
            "20     Chrysler  LeBaron  Compact\n",
            "40        Honda  Prelude   Sporty\n",
            "60      Mercury   Cougar  Midsize\n",
            "80       Subaru   Loyale    Small\n"
          ]
        }
      ],
      "source": [
        "# Question 1\n",
        "# From df filter the 'Manufacturer', 'Model' and 'Type' for every 20th row starting from 1st (row 0).\n",
        "\n",
        "filtered_data = df.loc[::20, ['Manufacturer', 'Model', 'Type']]\n",
        "\n",
        "print(filtered_data)"
      ]
    },
    {
      "cell_type": "code",
      "source": [
        "# Question 2\n",
        "# Replace missing values in Min.Price and Max.Price columns with their respective mean.\n",
        "\n",
        "min_price_mean = df['Min.Price'].mean()\n",
        "max_price_mean = df['Max.Price'].mean()\n",
        "\n",
        "df['Min.Price'].fillna(min_price_mean, inplace=True)\n",
        "df['Max.Price'].fillna(max_price_mean, inplace=True)\n",
        "\n",
        "print(df[['Min.Price', 'Max.Price']].head())"
      ],
      "metadata": {
        "colab": {
          "base_uri": "https://localhost:8080/"
        },
        "id": "9mjvg6CqZUNt",
        "outputId": "e93f437c-2eb9-4c7e-f51c-3b8d0b32c544"
      },
      "execution_count": 30,
      "outputs": [
        {
          "output_type": "stream",
          "name": "stdout",
          "text": [
            "   Min.Price  Max.Price\n",
            "0  12.900000  18.800000\n",
            "1  29.200000  38.700000\n",
            "2  25.900000  32.300000\n",
            "3  17.118605  44.600000\n",
            "4  17.118605  21.459091\n"
          ]
        }
      ]
    },
    {
      "cell_type": "code",
      "source": [
        "# Question 3\n",
        "# How to get the rows of a dataframe with row sum > 100?\n",
        "\n",
        "df = pd.DataFrame(np.random.randint(10, 40, 60).reshape(-1, 4))\n",
        "filtered_rows = df[df.sum(axis=1) > 100]\n",
        "print(filtered_rows)"
      ],
      "metadata": {
        "colab": {
          "base_uri": "https://localhost:8080/"
        },
        "id": "_SGnTjJtZVJ3",
        "outputId": "03ac15ab-83a2-4810-821f-70c51ce8ec9d"
      },
      "execution_count": 31,
      "outputs": [
        {
          "output_type": "stream",
          "name": "stdout",
          "text": [
            "     0   1   2   3\n",
            "2   14  24  37  39\n",
            "3   30  21  23  29\n",
            "4   39  37  31  38\n",
            "5   39  38  10  24\n",
            "7   39  39  18  14\n",
            "8   30  36  33  37\n",
            "10  12  14  38  37\n",
            "11  28  38  25  30\n",
            "12  11  34  29  34\n"
          ]
        }
      ]
    }
  ]
}