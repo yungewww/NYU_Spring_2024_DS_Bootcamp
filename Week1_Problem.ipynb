{
  "nbformat": 4,
  "nbformat_minor": 0,
  "metadata": {
    "colab": {
      "provenance": []
    },
    "kernelspec": {
      "name": "python3",
      "display_name": "Python 3"
    },
    "language_info": {
      "name": "python"
    }
  },
  "cells": [
    {
      "cell_type": "code",
      "execution_count": 6,
      "metadata": {
        "colab": {
          "base_uri": "https://localhost:8080/"
        },
        "id": "mCsSm2JruGhs",
        "outputId": "e7489038-a6fc-472a-d378-4e17007ec790"
      },
      "outputs": [
        {
          "output_type": "stream",
          "name": "stdout",
          "text": [
            "Please input a word: APPLE\n",
            "The number of vowels in this word is: 2\n"
          ]
        }
      ],
      "source": [
        "# QUESTION 1\n",
        "word = input(\"Please input a word: \")\n",
        "\n",
        "def count_vowels(word):\n",
        "  count = 0\n",
        "  for i in word:\n",
        "    if i in ['a', 'e', 'i', 'o', 'u', 'A', 'E', 'I', 'O', 'U']:\n",
        "      count += 1\n",
        "  return count\n",
        "\n",
        "print(\"The number of vowels in this word is: \" + str(count_vowels(word)))"
      ]
    },
    {
      "cell_type": "code",
      "source": [
        "# QUESTION 2\n",
        "animals = ['tiger', 'elephant', 'monkey', 'zebra', 'panther']\n",
        "\n",
        "for i in animals:\n",
        "  print(i.upper())"
      ],
      "metadata": {
        "colab": {
          "base_uri": "https://localhost:8080/"
        },
        "id": "e4BDDboxvl0G",
        "outputId": "6029ccec-a13b-485d-b423-b097d1bb07fa"
      },
      "execution_count": 8,
      "outputs": [
        {
          "output_type": "stream",
          "name": "stdout",
          "text": [
            "TIGER\n",
            "ELEPHANT\n",
            "MONKEY\n",
            "ZEBRA\n",
            "PANTHER\n"
          ]
        }
      ]
    },
    {
      "cell_type": "code",
      "source": [
        "# QUESTION 3\n",
        "for i in range(1, 21):\n",
        "  if i%2 == 0:\n",
        "    print(\"%d is even.\" % i)\n",
        "  else:\n",
        "    print(\"%d is odd.\" % i)"
      ],
      "metadata": {
        "colab": {
          "base_uri": "https://localhost:8080/"
        },
        "id": "5ysm1IQJwm81",
        "outputId": "9bf72642-5f22-4715-eb30-e3ff1e6fad72"
      },
      "execution_count": 13,
      "outputs": [
        {
          "output_type": "stream",
          "name": "stdout",
          "text": [
            "1 is odd.\n",
            "2 is even.\n",
            "3 is odd.\n",
            "4 is even.\n",
            "5 is odd.\n",
            "6 is even.\n",
            "7 is odd.\n",
            "8 is even.\n",
            "9 is odd.\n",
            "10 is even.\n",
            "11 is odd.\n",
            "12 is even.\n",
            "13 is odd.\n",
            "14 is even.\n",
            "15 is odd.\n",
            "16 is even.\n",
            "17 is odd.\n",
            "18 is even.\n",
            "19 is odd.\n",
            "20 is even.\n"
          ]
        }
      ]
    },
    {
      "cell_type": "code",
      "source": [
        "a = int(input(\"Please input a: \"))\n",
        "b = int(input(\"Please input b: \"))\n",
        "\n",
        "def sum_of_integers(a, b):\n",
        "  return a + b\n",
        "\n",
        "print(\"The sum of a and b is \" + str(sum_of_integers(a, b)))"
      ],
      "metadata": {
        "colab": {
          "base_uri": "https://localhost:8080/"
        },
        "id": "pI8VO4ADxp0n",
        "outputId": "13a7e226-ffdc-482b-cae4-5de10f238abf"
      },
      "execution_count": 15,
      "outputs": [
        {
          "output_type": "stream",
          "name": "stdout",
          "text": [
            "Please input a: 10\n",
            "Please input b: 2\n",
            "The sum of a and b is 12\n"
          ]
        }
      ]
    }
  ]
}